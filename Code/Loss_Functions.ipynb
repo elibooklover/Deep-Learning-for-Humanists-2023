{
  "nbformat": 4,
  "nbformat_minor": 0,
  "metadata": {
    "colab": {
      "provenance": []
    },
    "kernelspec": {
      "name": "python3",
      "display_name": "Python 3"
    },
    "language_info": {
      "name": "python"
    }
  },
  "cells": [
    {
      "cell_type": "code",
      "execution_count": null,
      "metadata": {
        "id": "IsQDY0PTMY6J"
      },
      "outputs": [],
      "source": [
        "import numpy as np"
      ]
    },
    {
      "cell_type": "code",
      "source": [
        "true_value = np.array([1,0.5,0.3,0,0.7])\n",
        "predicted_value = np.array([0,1,1,0,1])"
      ],
      "metadata": {
        "id": "94C30t7KRzPW"
      },
      "execution_count": null,
      "outputs": []
    },
    {
      "cell_type": "markdown",
      "source": [
        "## MAE (Mean Absolute Error)"
      ],
      "metadata": {
        "id": "4Y8V-ll1SPqt"
      }
    },
    {
      "cell_type": "code",
      "source": [
        "def mae(true_value, predicted_value):\n",
        "  for t, p in zip(true_value, predicted_value):\n",
        "    print(t, p)"
      ],
      "metadata": {
        "id": "owUxOHiYSNOQ"
      },
      "execution_count": null,
      "outputs": []
    },
    {
      "cell_type": "code",
      "source": [
        "mae(true_value, predicted_value)"
      ],
      "metadata": {
        "colab": {
          "base_uri": "https://localhost:8080/"
        },
        "id": "zq8HSrGKwD3t",
        "outputId": "efaefb64-3ce3-4ff8-d31c-695fd9b2bb55"
      },
      "execution_count": null,
      "outputs": [
        {
          "output_type": "stream",
          "name": "stdout",
          "text": [
            "1.0 0\n",
            "0.5 1\n",
            "0.3 1\n",
            "0.0 0\n",
            "0.7 1\n"
          ]
        }
      ]
    },
    {
      "cell_type": "code",
      "source": [
        "def mae(true_value, predicted_value):\n",
        "  total_error = 0\n",
        "  for t, p in zip(true_value, predicted_value):\n",
        "    total_error += abs(t - p)\n",
        "  print(\"Total Error:\", total_error)\n",
        "  mae = total_error / len(true_value)\n",
        "  print(\"MAE:\", mae)"
      ],
      "metadata": {
        "id": "pNPvuOF7wvli"
      },
      "execution_count": null,
      "outputs": []
    },
    {
      "cell_type": "code",
      "source": [
        "mae(true_value, predicted_value)"
      ],
      "metadata": {
        "colab": {
          "base_uri": "https://localhost:8080/"
        },
        "id": "FNohJFWOxATJ",
        "outputId": "8464fc68-20a9-4ed6-dddc-3bb3b8902d4b"
      },
      "execution_count": null,
      "outputs": [
        {
          "output_type": "stream",
          "name": "stdout",
          "text": [
            "Total Error: 2.5\n",
            "MAE: 0.5\n"
          ]
        }
      ]
    },
    {
      "cell_type": "code",
      "source": [
        "predicted_value - true_value"
      ],
      "metadata": {
        "colab": {
          "base_uri": "https://localhost:8080/"
        },
        "id": "LP_dtvK6xpaC",
        "outputId": "eb1eeaf5-cd40-47fa-c99d-b7b2a779e2f4"
      },
      "execution_count": null,
      "outputs": [
        {
          "output_type": "execute_result",
          "data": {
            "text/plain": [
              "array([-1. ,  0.5,  0.7,  0. ,  0.3])"
            ]
          },
          "metadata": {},
          "execution_count": 19
        }
      ]
    },
    {
      "cell_type": "code",
      "source": [
        "np.abs(predicted_value - true_value)"
      ],
      "metadata": {
        "colab": {
          "base_uri": "https://localhost:8080/"
        },
        "id": "fT_ItDiDxvYf",
        "outputId": "c2a03d0d-0aa3-45c4-eba9-521e83f158a1"
      },
      "execution_count": null,
      "outputs": [
        {
          "output_type": "execute_result",
          "data": {
            "text/plain": [
              "array([1. , 0.5, 0.7, 0. , 0.3])"
            ]
          },
          "metadata": {},
          "execution_count": 20
        }
      ]
    },
    {
      "cell_type": "code",
      "source": [
        "np.mean(np.abs(predicted_value - true_value))"
      ],
      "metadata": {
        "colab": {
          "base_uri": "https://localhost:8080/"
        },
        "id": "Rv-u5sk8xx1f",
        "outputId": "8c129b61-64e6-41a8-a5b6-b30b8595edfc"
      },
      "execution_count": null,
      "outputs": [
        {
          "output_type": "execute_result",
          "data": {
            "text/plain": [
              "0.5"
            ]
          },
          "metadata": {},
          "execution_count": 23
        }
      ]
    },
    {
      "cell_type": "markdown",
      "source": [
        "## MSE (Mean Squared Error)"
      ],
      "metadata": {
        "id": "KqoOFnMOt3wA"
      }
    },
    {
      "cell_type": "code",
      "source": [
        "def mse(true_value, predicted_value):\n",
        "  total_error = 0\n",
        "  for t, p in zip(true_value, predicted_value):\n",
        "    total_error += (t - p)**2\n",
        "  print(\"Total Squared Error:\", total_error)\n",
        "  mse = total_error/len(true_value)\n",
        "  print(\"Mean Squared Error:\", mse)"
      ],
      "metadata": {
        "id": "5AYfkLs6t83R"
      },
      "execution_count": null,
      "outputs": []
    },
    {
      "cell_type": "code",
      "source": [
        "mse(true_value, predicted_value)"
      ],
      "metadata": {
        "colab": {
          "base_uri": "https://localhost:8080/"
        },
        "id": "r1_Ldm1i79Yc",
        "outputId": "b5550e23-1853-4fe3-b190-92126a9d5c0e"
      },
      "execution_count": null,
      "outputs": [
        {
          "output_type": "stream",
          "name": "stdout",
          "text": [
            "Total Squared Error: 1.83\n",
            "Mean Squared Error: 0.366\n"
          ]
        }
      ]
    },
    {
      "cell_type": "code",
      "source": [
        "np.square(true_value - predicted_value)"
      ],
      "metadata": {
        "colab": {
          "base_uri": "https://localhost:8080/"
        },
        "id": "qCjedISF8E0L",
        "outputId": "ec1ed8e0-025c-4f61-980d-e0a90695f316"
      },
      "execution_count": null,
      "outputs": [
        {
          "output_type": "execute_result",
          "data": {
            "text/plain": [
              "array([1.  , 0.25, 0.49, 0.  , 0.09])"
            ]
          },
          "metadata": {},
          "execution_count": 8
        }
      ]
    },
    {
      "cell_type": "code",
      "source": [
        "np.mean(np.square(true_value - predicted_value))"
      ],
      "metadata": {
        "colab": {
          "base_uri": "https://localhost:8080/"
        },
        "id": "KJuLLEUx8Gdb",
        "outputId": "c47fa431-9b38-4ee8-bdf0-78c31b639847"
      },
      "execution_count": null,
      "outputs": [
        {
          "output_type": "execute_result",
          "data": {
            "text/plain": [
              "0.366"
            ]
          },
          "metadata": {},
          "execution_count": 9
        }
      ]
    },
    {
      "cell_type": "markdown",
      "source": [
        "## Binary Cross Entropy (Log Loss)"
      ],
      "metadata": {
        "id": "N1nUvr9-t7CP"
      }
    },
    {
      "cell_type": "code",
      "source": [
        "np.log(10)"
      ],
      "metadata": {
        "id": "7KHjtpV9t9dR",
        "colab": {
          "base_uri": "https://localhost:8080/"
        },
        "outputId": "924530c0-7e25-4b0c-c41c-3615945ec4ef"
      },
      "execution_count": null,
      "outputs": [
        {
          "output_type": "execute_result",
          "data": {
            "text/plain": [
              "2.302585092994046"
            ]
          },
          "metadata": {},
          "execution_count": 11
        }
      ]
    },
    {
      "cell_type": "code",
      "source": [
        "delta = 1e-15"
      ],
      "metadata": {
        "id": "j5uaM1OwEYTF"
      },
      "execution_count": null,
      "outputs": []
    },
    {
      "cell_type": "code",
      "source": [
        "predicted_value"
      ],
      "metadata": {
        "colab": {
          "base_uri": "https://localhost:8080/"
        },
        "id": "5GM9GBFQEYiU",
        "outputId": "83fd492a-81ee-4132-ac1e-b137fec84742"
      },
      "execution_count": null,
      "outputs": [
        {
          "output_type": "execute_result",
          "data": {
            "text/plain": [
              "array([0, 1, 1, 0, 1])"
            ]
          },
          "metadata": {},
          "execution_count": 20
        }
      ]
    },
    {
      "cell_type": "code",
      "source": [
        "predicted_new = [max(i, delta) for i in predicted_value]\n",
        "predicted_new"
      ],
      "metadata": {
        "colab": {
          "base_uri": "https://localhost:8080/"
        },
        "id": "kI-ysJS3Fvba",
        "outputId": "e69c8523-3c5a-4264-e2ac-d3d6f9f14ec3"
      },
      "execution_count": null,
      "outputs": [
        {
          "output_type": "execute_result",
          "data": {
            "text/plain": [
              "[1e-15, 1, 1, 1e-15, 1]"
            ]
          },
          "metadata": {},
          "execution_count": 24
        }
      ]
    },
    {
      "cell_type": "code",
      "source": [
        "predicted_new = [min(i, 1-delta) for i in predicted_new]\n",
        "predicted_new"
      ],
      "metadata": {
        "colab": {
          "base_uri": "https://localhost:8080/"
        },
        "id": "Pa2CMwpuF6w7",
        "outputId": "3406e26e-39d6-4001-b84a-34852fefe584"
      },
      "execution_count": null,
      "outputs": [
        {
          "output_type": "execute_result",
          "data": {
            "text/plain": [
              "[1e-15, 0.999999999999999, 0.999999999999999, 1e-15, 0.999999999999999]"
            ]
          },
          "metadata": {},
          "execution_count": 35
        }
      ]
    },
    {
      "cell_type": "code",
      "source": [
        "predicted_new = np.array(predicted_new)"
      ],
      "metadata": {
        "id": "ULSkJw_MHOiV"
      },
      "execution_count": null,
      "outputs": []
    },
    {
      "cell_type": "code",
      "source": [
        "-np.mean(true_value*np.log(predicted_new)+(1-true_value)*np.log(1-predicted_new))"
      ],
      "metadata": {
        "colab": {
          "base_uri": "https://localhost:8080/"
        },
        "id": "K1KWeWBqGmCx",
        "outputId": "022be18f-5c89-4f8a-e777-ba1dc11161a7"
      },
      "execution_count": null,
      "outputs": [
        {
          "output_type": "execute_result",
          "data": {
            "text/plain": [
              "17.2696280766844"
            ]
          },
          "metadata": {},
          "execution_count": 37
        }
      ]
    },
    {
      "cell_type": "code",
      "source": [
        "def log_loss(true_value, predicted_value):\n",
        "  predicted_new = [max(i, delta) for i in predicted_value]\n",
        "  predicted_new = [min(i, 1-delta) for i in predicted_new]\n",
        "  predicted_new = np.array(predicted_new)\n",
        "  return -np.mean(true_value*np.log(predicted_new)+(1-true_value)*np.log(1-predicted_new))"
      ],
      "metadata": {
        "id": "eLODrPG-8nOC"
      },
      "execution_count": null,
      "outputs": []
    },
    {
      "cell_type": "code",
      "source": [
        "log_loss(true_value, predicted_value)"
      ],
      "metadata": {
        "colab": {
          "base_uri": "https://localhost:8080/"
        },
        "id": "Qad25g6PHoAx",
        "outputId": "041cc0ad-e336-47a7-fce4-63dec488fc83"
      },
      "execution_count": null,
      "outputs": [
        {
          "output_type": "execute_result",
          "data": {
            "text/plain": [
              "17.2696280766844"
            ]
          },
          "metadata": {},
          "execution_count": 43
        }
      ]
    },
    {
      "cell_type": "markdown",
      "source": [
        "## Loss Functions with PyTorch"
      ],
      "metadata": {
        "id": "syk443KrNv1D"
      }
    },
    {
      "cell_type": "code",
      "source": [
        "import torch\n",
        "import torch.nn as nn"
      ],
      "metadata": {
        "id": "ZpHG05N0N9YZ"
      },
      "execution_count": null,
      "outputs": []
    },
    {
      "cell_type": "code",
      "source": [
        "# Initialize logits and ground truth\n",
        "logits = torch.rand(1, 2000)\n",
        "ground_truth = torch.tensor([123])\n",
        "\n",
        "# Use cross-entropy loss\n",
        "criterion = nn.CrossEntropyLoss()\n",
        "#criterion = nn.L1Loss() # MAE\n",
        "#criterion = nn.MSELoss() # MSE\n",
        "\n",
        "# Calculate and print the loss\n",
        "loss = criterion(logits, ground_truth)"
      ],
      "metadata": {
        "id": "A9wLYEI_Nu5G"
      },
      "execution_count": null,
      "outputs": []
    },
    {
      "cell_type": "code",
      "source": [
        "print(loss)"
      ],
      "metadata": {
        "colab": {
          "base_uri": "https://localhost:8080/"
        },
        "id": "3et0PvooN690",
        "outputId": "2359c903-7915-4e8f-b21a-c02fe748891e"
      },
      "execution_count": null,
      "outputs": [
        {
          "output_type": "stream",
          "name": "stdout",
          "text": [
            "tensor(7.5246)\n"
          ]
        }
      ]
    }
  ]
}